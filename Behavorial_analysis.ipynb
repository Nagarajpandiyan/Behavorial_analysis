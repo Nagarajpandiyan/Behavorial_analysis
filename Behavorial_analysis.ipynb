{
  "nbformat": 4,
  "nbformat_minor": 0,
  "metadata": {
    "kernelspec": {
      "display_name": "Python 2",
      "language": "python",
      "name": "python2"
    },
    "language_info": {
      "codemirror_mode": {
        "name": "ipython",
        "version": 2
      },
      "file_extension": ".py",
      "mimetype": "text/x-python",
      "name": "python",
      "nbconvert_exporter": "python",
      "pygments_lexer": "ipython2",
      "version": "2.7.13"
    },
    "colab": {
      "name": "Behavorial analysis.ipynb",
      "provenance": []
    }
  },
  "cells": [
    {
      "cell_type": "markdown",
      "metadata": {
        "id": "lsW4R63cutH9",
        "colab_type": "text"
      },
      "source": [
        "# Behavorial Analysis of malware using Machine learning"
      ]
    },
    {
      "cell_type": "markdown",
      "metadata": {
        "id": "0i7fl4skutIB",
        "colab_type": "text"
      },
      "source": [
        "## Aim: To transition from signature based analysis to behavorial analysis "
      ]
    },
    {
      "cell_type": "markdown",
      "metadata": {
        "id": "eycC4WXxutIF",
        "colab_type": "text"
      },
      "source": [
        "### Techniques that exist:\n",
        "* Signature based analysis : Requires Hash, fails for polymorphic virus and new malware sample.\n",
        "* Behavorial analysis using sandbox: analyse behavior by executing the malware sample, also sandbox work on rules.If anitvirus identfies rule, it evades it. Hence, continously keep changing the rules. Works for polymorphic viruses.\n",
        "* Behavorial analysis using machine learning: Automate the manual labor required in (2)."
      ]
    },
    {
      "cell_type": "markdown",
      "metadata": {
        "id": "etlIFXZcutII",
        "colab_type": "text"
      },
      "source": [
        "### Use of anitvirus labels\n",
        "Antivirus scanners are designed to detect malware and, to a lesser extent, to label detections based on a family association. The labeling provided by AV vendors has many applications such as guiding efforts of disinfection and countermeasures, intelligence gathering, and attack attribution, among others."
      ]
    },
    {
      "cell_type": "markdown",
      "metadata": {
        "id": "UcyJS6RButIK",
        "colab_type": "text"
      },
      "source": [
        "### What are we upto?\n",
        "* We are trying to confirm whether there exists a link between anitvirus labels and behavior exibited by the malware samples (by using classification).\n",
        "* Trying to figure out an unsupervised algorithm to represent behavior based clusters.\n",
        "* Assosciating a cluster to each of the malwares. Performing classification on these newly assigned clusters to ensure that the behaviour based clustering is an appropriate technique. \n",
        "* Also, to verify this technique we would have to draw samples from same cluster and neutralize it (if possible)"
      ]
    },
    {
      "cell_type": "code",
      "metadata": {
        "id": "75hhY0YHutIN",
        "colab_type": "code",
        "colab": {}
      },
      "source": [
        "import pandas as pd\n",
        "import numpy as np\n",
        "from matplotlib import pyplot as plt\n",
        "from sompy.sompy import SOMFactory"
      ],
      "execution_count": 0,
      "outputs": []
    },
    {
      "cell_type": "code",
      "metadata": {
        "id": "QGQlcZLIutIS",
        "colab_type": "code",
        "colab": {}
      },
      "source": [
        "tp = pd.read_csv('data_new.csv', chunksize=94, iterator=True, header=None)"
      ],
      "execution_count": 0,
      "outputs": []
    },
    {
      "cell_type": "code",
      "metadata": {
        "id": "nIUGz88rutIZ",
        "colab_type": "code",
        "colab": {}
      },
      "source": [
        "df = pd.concat(tp,ignore_index=True)"
      ],
      "execution_count": 0,
      "outputs": []
    },
    {
      "cell_type": "code",
      "metadata": {
        "scrolled": true,
        "id": "LFrqtgRgutId",
        "colab_type": "code",
        "outputId": "ce2e5c90-539b-48f3-b714-809b299918be",
        "colab": {}
      },
      "source": [
        "df.head()"
      ],
      "execution_count": 0,
      "outputs": [
        {
          "output_type": "execute_result",
          "data": {
            "text/html": [
              "<div>\n",
              "<style>\n",
              "    .dataframe thead tr:only-child th {\n",
              "        text-align: right;\n",
              "    }\n",
              "\n",
              "    .dataframe thead th {\n",
              "        text-align: left;\n",
              "    }\n",
              "\n",
              "    .dataframe tbody tr th {\n",
              "        vertical-align: top;\n",
              "    }\n",
              "</style>\n",
              "<table border=\"1\" class=\"dataframe\">\n",
              "  <thead>\n",
              "    <tr style=\"text-align: right;\">\n",
              "      <th></th>\n",
              "      <th>0</th>\n",
              "      <th>1</th>\n",
              "      <th>2</th>\n",
              "      <th>3</th>\n",
              "      <th>4</th>\n",
              "      <th>5</th>\n",
              "      <th>6</th>\n",
              "      <th>7</th>\n",
              "      <th>8</th>\n",
              "      <th>9</th>\n",
              "      <th>...</th>\n",
              "      <th>594</th>\n",
              "      <th>595</th>\n",
              "      <th>596</th>\n",
              "      <th>597</th>\n",
              "      <th>598</th>\n",
              "      <th>599</th>\n",
              "      <th>600</th>\n",
              "      <th>601</th>\n",
              "      <th>602</th>\n",
              "      <th>603</th>\n",
              "    </tr>\n",
              "  </thead>\n",
              "  <tbody>\n",
              "    <tr>\n",
              "      <th>0</th>\n",
              "      <td>28.0</td>\n",
              "      <td>223.0</td>\n",
              "      <td>12.0</td>\n",
              "      <td>1.0</td>\n",
              "      <td>3.0</td>\n",
              "      <td>2.0</td>\n",
              "      <td>70.0</td>\n",
              "      <td>8.0</td>\n",
              "      <td>7.0</td>\n",
              "      <td>1.0</td>\n",
              "      <td>...</td>\n",
              "      <td>0.0</td>\n",
              "      <td>0.0</td>\n",
              "      <td>0.0</td>\n",
              "      <td>0.0</td>\n",
              "      <td>0.0</td>\n",
              "      <td>0.0</td>\n",
              "      <td>0.0</td>\n",
              "      <td>0.0</td>\n",
              "      <td>0.0</td>\n",
              "      <td>1.0</td>\n",
              "    </tr>\n",
              "    <tr>\n",
              "      <th>1</th>\n",
              "      <td>80.0</td>\n",
              "      <td>238.0</td>\n",
              "      <td>104.0</td>\n",
              "      <td>58.0</td>\n",
              "      <td>0.0</td>\n",
              "      <td>0.0</td>\n",
              "      <td>70.0</td>\n",
              "      <td>7.0</td>\n",
              "      <td>6.0</td>\n",
              "      <td>1.0</td>\n",
              "      <td>...</td>\n",
              "      <td>0.0</td>\n",
              "      <td>0.0</td>\n",
              "      <td>0.0</td>\n",
              "      <td>0.0</td>\n",
              "      <td>0.0</td>\n",
              "      <td>0.0</td>\n",
              "      <td>0.0</td>\n",
              "      <td>0.0</td>\n",
              "      <td>0.0</td>\n",
              "      <td>10.0</td>\n",
              "    </tr>\n",
              "    <tr>\n",
              "      <th>2</th>\n",
              "      <td>1.0</td>\n",
              "      <td>9.0</td>\n",
              "      <td>6.0</td>\n",
              "      <td>2.0</td>\n",
              "      <td>3.0</td>\n",
              "      <td>0.0</td>\n",
              "      <td>20.0</td>\n",
              "      <td>1.0</td>\n",
              "      <td>0.0</td>\n",
              "      <td>0.0</td>\n",
              "      <td>...</td>\n",
              "      <td>0.0</td>\n",
              "      <td>0.0</td>\n",
              "      <td>0.0</td>\n",
              "      <td>0.0</td>\n",
              "      <td>0.0</td>\n",
              "      <td>0.0</td>\n",
              "      <td>0.0</td>\n",
              "      <td>0.0</td>\n",
              "      <td>0.0</td>\n",
              "      <td>100.0</td>\n",
              "    </tr>\n",
              "    <tr>\n",
              "      <th>3</th>\n",
              "      <td>17.0</td>\n",
              "      <td>20.0</td>\n",
              "      <td>11.0</td>\n",
              "      <td>3.0</td>\n",
              "      <td>0.0</td>\n",
              "      <td>0.0</td>\n",
              "      <td>17.0</td>\n",
              "      <td>4.0</td>\n",
              "      <td>0.0</td>\n",
              "      <td>1.0</td>\n",
              "      <td>...</td>\n",
              "      <td>0.0</td>\n",
              "      <td>0.0</td>\n",
              "      <td>0.0</td>\n",
              "      <td>0.0</td>\n",
              "      <td>0.0</td>\n",
              "      <td>0.0</td>\n",
              "      <td>0.0</td>\n",
              "      <td>0.0</td>\n",
              "      <td>0.0</td>\n",
              "      <td>1000.0</td>\n",
              "    </tr>\n",
              "    <tr>\n",
              "      <th>4</th>\n",
              "      <td>0.0</td>\n",
              "      <td>6.0</td>\n",
              "      <td>3.0</td>\n",
              "      <td>1.0</td>\n",
              "      <td>0.0</td>\n",
              "      <td>0.0</td>\n",
              "      <td>34.0</td>\n",
              "      <td>3.0</td>\n",
              "      <td>0.0</td>\n",
              "      <td>2.0</td>\n",
              "      <td>...</td>\n",
              "      <td>0.0</td>\n",
              "      <td>0.0</td>\n",
              "      <td>0.0</td>\n",
              "      <td>0.0</td>\n",
              "      <td>0.0</td>\n",
              "      <td>0.0</td>\n",
              "      <td>0.0</td>\n",
              "      <td>0.0</td>\n",
              "      <td>0.0</td>\n",
              "      <td>1001.0</td>\n",
              "    </tr>\n",
              "  </tbody>\n",
              "</table>\n",
              "<p>5 rows × 604 columns</p>\n",
              "</div>"
            ],
            "text/plain": [
              "    0      1      2     3    4    5     6    7    8    9     ...    594  595  \\\n",
              "0  28.0  223.0   12.0   1.0  3.0  2.0  70.0  8.0  7.0  1.0   ...    0.0  0.0   \n",
              "1  80.0  238.0  104.0  58.0  0.0  0.0  70.0  7.0  6.0  1.0   ...    0.0  0.0   \n",
              "2   1.0    9.0    6.0   2.0  3.0  0.0  20.0  1.0  0.0  0.0   ...    0.0  0.0   \n",
              "3  17.0   20.0   11.0   3.0  0.0  0.0  17.0  4.0  0.0  1.0   ...    0.0  0.0   \n",
              "4   0.0    6.0    3.0   1.0  0.0  0.0  34.0  3.0  0.0  2.0   ...    0.0  0.0   \n",
              "\n",
              "   596  597  598  599  600  601  602     603  \n",
              "0  0.0  0.0  0.0  0.0  0.0  0.0  0.0     1.0  \n",
              "1  0.0  0.0  0.0  0.0  0.0  0.0  0.0    10.0  \n",
              "2  0.0  0.0  0.0  0.0  0.0  0.0  0.0   100.0  \n",
              "3  0.0  0.0  0.0  0.0  0.0  0.0  0.0  1000.0  \n",
              "4  0.0  0.0  0.0  0.0  0.0  0.0  0.0  1001.0  \n",
              "\n",
              "[5 rows x 604 columns]"
            ]
          },
          "metadata": {
            "tags": []
          },
          "execution_count": 6
        }
      ]
    },
    {
      "cell_type": "code",
      "metadata": {
        "id": "Yqy9rl9FutIr",
        "colab_type": "code",
        "outputId": "c1745235-32e6-48ad-fca2-dfecb21a07f6",
        "colab": {}
      },
      "source": [
        "df.shape"
      ],
      "execution_count": 0,
      "outputs": [
        {
          "output_type": "execute_result",
          "data": {
            "text/plain": [
              "(3639, 604)"
            ]
          },
          "metadata": {
            "tags": []
          },
          "execution_count": 7
        }
      ]
    },
    {
      "cell_type": "code",
      "metadata": {
        "id": "8RMGfZWKutIy",
        "colab_type": "code",
        "colab": {}
      },
      "source": [
        "from sklearn.decomposition import PCA"
      ],
      "execution_count": 0,
      "outputs": []
    },
    {
      "cell_type": "code",
      "metadata": {
        "id": "BJEOrVu5utJB",
        "colab_type": "code",
        "outputId": "74372f04-de2e-401b-fe17-c2243b5380c3",
        "colab": {}
      },
      "source": [
        "pca = PCA(n_components=50)\n",
        "pca.fit(df)"
      ],
      "execution_count": 0,
      "outputs": [
        {
          "output_type": "execute_result",
          "data": {
            "text/plain": [
              "PCA(copy=True, iterated_power='auto', n_components=50, random_state=None,\n",
              "  svd_solver='auto', tol=0.0, whiten=False)"
            ]
          },
          "metadata": {
            "tags": []
          },
          "execution_count": 15
        }
      ]
    },
    {
      "cell_type": "code",
      "metadata": {
        "id": "0lVI3sEuutJI",
        "colab_type": "code",
        "outputId": "a05944c8-584b-41a7-8eaf-ca3e5e26f093",
        "colab": {}
      },
      "source": [
        "pca.explained_variance_ratio_"
      ],
      "execution_count": 0,
      "outputs": [
        {
          "output_type": "execute_result",
          "data": {
            "text/plain": [
              "array([ 0.20204572,  0.0988628 ,  0.08103503,  0.06615549,  0.05077377,\n",
              "        0.04389673,  0.04121119,  0.04011773,  0.0385944 ,  0.03050957,\n",
              "        0.02911248,  0.02782076,  0.0265224 ,  0.02516073,  0.02270482,\n",
              "        0.0220526 ,  0.01499452,  0.01212635,  0.01182684,  0.01048874,\n",
              "        0.01002271,  0.00760291,  0.00710293,  0.00599248,  0.00533575,\n",
              "        0.00494388,  0.00454662,  0.00442813,  0.00369808,  0.00335481,\n",
              "        0.00323884,  0.00286925,  0.00272181,  0.00261928,  0.00242391,\n",
              "        0.00226066,  0.00212784,  0.0019617 ,  0.00193473,  0.00187086,\n",
              "        0.00182537,  0.00168685,  0.00142841,  0.00135223,  0.00130743,\n",
              "        0.00127467,  0.00116694,  0.00088083,  0.00081625,  0.0007656 ])"
            ]
          },
          "metadata": {
            "tags": []
          },
          "execution_count": 16
        }
      ]
    },
    {
      "cell_type": "code",
      "metadata": {
        "id": "tPZe2S3XutJP",
        "colab_type": "code",
        "outputId": "136223b1-4d2f-4d8c-b3c8-3279cb67f3cc",
        "colab": {}
      },
      "source": [
        "var1=np.cumsum(np.round(pca.explained_variance_ratio_, decimals=4)*100)\n",
        "var1"
      ],
      "execution_count": 0,
      "outputs": [
        {
          "output_type": "execute_result",
          "data": {
            "text/plain": [
              "array([ 20.2 ,  30.09,  38.19,  44.81,  49.89,  54.28,  58.4 ,  62.41,\n",
              "        66.27,  69.32,  72.23,  75.01,  77.66,  80.18,  82.45,  84.66,\n",
              "        86.16,  87.37,  88.55,  89.6 ,  90.6 ,  91.36,  92.07,  92.67,\n",
              "        93.2 ,  93.69,  94.14,  94.58,  94.95,  95.29,  95.61,  95.9 ,\n",
              "        96.17,  96.43,  96.67,  96.9 ,  97.11,  97.31,  97.5 ,  97.69,\n",
              "        97.87,  98.04,  98.18,  98.32,  98.45,  98.58,  98.7 ,  98.79,\n",
              "        98.87,  98.95])"
            ]
          },
          "metadata": {
            "tags": []
          },
          "execution_count": 17
        }
      ]
    },
    {
      "cell_type": "code",
      "metadata": {
        "id": "9Padhc2qutJV",
        "colab_type": "code",
        "colab": {}
      },
      "source": [
        "import matplotlib.pyplot as plt\n",
        "%matplotlib inline"
      ],
      "execution_count": 0,
      "outputs": []
    },
    {
      "cell_type": "code",
      "metadata": {
        "id": "HStzgIGeutJa",
        "colab_type": "code",
        "outputId": "1298b689-5ecf-43bb-b786-6216699ed3d4",
        "colab": {}
      },
      "source": [
        "plt.plot(var1)"
      ],
      "execution_count": 0,
      "outputs": [
        {
          "output_type": "execute_result",
          "data": {
            "text/plain": [
              "[<matplotlib.lines.Line2D at 0x7f0feb7ae350>]"
            ]
          },
          "metadata": {
            "tags": []
          },
          "execution_count": 19
        },
        {
          "output_type": "display_data",
          "data": {
            "image/png": "[encoded data removed]",
            "text/plain": [
              "<matplotlib.figure.Figure at 0x7f0feb887d50>"
            ]
          },
          "metadata": {
            "tags": []
          }
        }
      ]
    },
    {
      "cell_type": "code",
      "metadata": {
        "id": "hmRF8t64utJe",
        "colab_type": "code",
        "colab": {}
      },
      "source": [
        "data1=pca.fit_transform(df)"
      ],
      "execution_count": 0,
      "outputs": []
    },
    {
      "cell_type": "code",
      "metadata": {
        "id": "nqSkTjYbutJj",
        "colab_type": "code",
        "colab": {}
      },
      "source": [
        "from sklearn.cluster import KMeans"
      ],
      "execution_count": 0,
      "outputs": []
    },
    {
      "cell_type": "code",
      "metadata": {
        "id": "aBpKpP8gutJn",
        "colab_type": "code",
        "outputId": "adad915a-2db0-4c11-a38e-53fb45edea17",
        "colab": {}
      },
      "source": [
        "ks = range(1, 30)\n",
        "inertias = []\n",
        "\n",
        "for k in ks:\n",
        "    # Create a KMeans instance with k clusters: model\n",
        "    model = KMeans(n_clusters=k)\n",
        "    \n",
        "    # Fit model to samples\n",
        "    model.fit(data1)\n",
        "    \n",
        "    # Append the inertia to the list of inertias\n",
        "    inertias.append(model.inertia_)\n",
        "    \n",
        "# Plot ks vs inertias\n",
        "plt.plot(ks, inertias, '-o')\n",
        "plt.xlabel('number of clusters, k')\n",
        "plt.ylabel('inertia')\n",
        "plt.xticks(ks)\n",
        "plt.show()"
      ],
      "execution_count": 0,
      "outputs": [
        {
          "output_type": "display_data",
          "data": {
            "image/png": "[encoded data removed]",
            "text/plain": [
              "<matplotlib.figure.Figure at 0x7f0fe8d10b50>"
            ]
          },
          "metadata": {
            "tags": []
          }
        }
      ]
    },
    {
      "cell_type": "code",
      "metadata": {
        "id": "tYwty0WUutJr",
        "colab_type": "code",
        "colab": {}
      },
      "source": [
        "sm = SOMFactory().build(data1,mapsize=[20,20], normalization = 'var', initialization='random') # mapsize denotes the number of blocks across x and y "
      ],
      "execution_count": 0,
      "outputs": []
    },
    {
      "cell_type": "code",
      "metadata": {
        "id": "SwiG-dM-utJw",
        "colab_type": "code",
        "outputId": "99b57978-5b81-464a-aa3d-e23576ee7889",
        "colab": {}
      },
      "source": [
        "sm.train(n_job=1, verbose=False, train_rough_len=2, train_finetune_len=5)"
      ],
      "execution_count": 0,
      "outputs": [
        {
          "output_type": "stream",
          "text": [
            "('maxtrainlen %d', inf)\n",
            "('maxtrainlen %d', inf)\n"
          ],
          "name": "stdout"
        }
      ]
    },
    {
      "cell_type": "code",
      "metadata": {
        "scrolled": true,
        "id": "Bq46WNfiutJz",
        "colab_type": "code",
        "outputId": "d7b6522b-c8c7-4470-ebf0-ec77e2511c61",
        "colab": {}
      },
      "source": [
        "from sompy.visualization.hitmap import HitMapView\n",
        "sm.cluster(16) # here number of output nodes equal to number of clusters \n",
        "hits  = HitMapView(10,10,\"Clustering\",text_size=12,packed=True) # here the numbers define the block size\n",
        "a=hits.show(sm)"
      ],
      "execution_count": 0,
      "outputs": [
        {
          "output_type": "display_data",
          "data": {
            "image/png": "[encoded data removed]",
            "text/plain": [
              "<matplotlib.figure.Figure at 0x7f0fd0a9aa10>"
            ]
          },
          "metadata": {
            "tags": []
          }
        }
      ]
    },
    {
      "cell_type": "code",
      "metadata": {
        "id": "EFL_IMpyutJ3",
        "colab_type": "code",
        "outputId": "dad2f605-c565-4f19-d669-3ff96fdfd9af",
        "colab": {}
      },
      "source": [
        "topographic_error = sm.calculate_topographic_error()\n",
        "quantization_error = np.mean(sm._bmu[1])\n",
        "print (\"Topographic error = %s; Quantization error = %s\" % (topographic_error, quantization_error))"
      ],
      "execution_count": 0,
      "outputs": [
        {
          "output_type": "stream",
          "text": [
            "Topographic error = 0.0679813181111; Quantization error = 1.03812793121\n"
          ],
          "name": "stdout"
        }
      ]
    },
    {
      "cell_type": "code",
      "metadata": {
        "id": "H-egPVJJutJ7",
        "colab_type": "code",
        "colab": {}
      },
      "source": [
        "labels=pd.read_csv('scores_new.csv',header=None)"
      ],
      "execution_count": 0,
      "outputs": []
    },
    {
      "cell_type": "code",
      "metadata": {
        "id": "TYgYmCayutJ-",
        "colab_type": "code",
        "outputId": "3cbc4584-3701-4fa7-ff26-67c062449fac",
        "colab": {}
      },
      "source": [
        "labels.head()"
      ],
      "execution_count": 0,
      "outputs": [
        {
          "output_type": "execute_result",
          "data": {
            "text/html": [
              "<div>\n",
              "<style>\n",
              "    .dataframe thead tr:only-child th {\n",
              "        text-align: right;\n",
              "    }\n",
              "\n",
              "    .dataframe thead th {\n",
              "        text-align: left;\n",
              "    }\n",
              "\n",
              "    .dataframe tbody tr th {\n",
              "        vertical-align: top;\n",
              "    }\n",
              "</style>\n",
              "<table border=\"1\" class=\"dataframe\">\n",
              "  <thead>\n",
              "    <tr style=\"text-align: right;\">\n",
              "      <th></th>\n",
              "      <th>0</th>\n",
              "      <th>1</th>\n",
              "      <th>2</th>\n",
              "      <th>3</th>\n",
              "      <th>4</th>\n",
              "      <th>5</th>\n",
              "    </tr>\n",
              "  </thead>\n",
              "  <tbody>\n",
              "    <tr>\n",
              "      <th>0</th>\n",
              "      <td>1</td>\n",
              "      <td>3.8</td>\n",
              "      <td>VirusShare_0a0a0d4f02692c87fc908</td>\n",
              "      <td>TrojanDownloader.Small.mru</td>\n",
              "      <td>TrojanDownloader</td>\n",
              "      <td>PE32 executable (GUI) Intel 8038</td>\n",
              "    </tr>\n",
              "    <tr>\n",
              "      <th>1</th>\n",
              "      <td>10</td>\n",
              "      <td>6.4</td>\n",
              "      <td>VirusShare_0a0c792921092fe45d663</td>\n",
              "      <td>Trojan.Win32.Injector.obgnq</td>\n",
              "      <td>VirTool</td>\n",
              "      <td>PE32 executable (GUI) Intel 8038</td>\n",
              "    </tr>\n",
              "    <tr>\n",
              "      <th>2</th>\n",
              "      <td>100</td>\n",
              "      <td>1.6</td>\n",
              "      <td>VirusShare_0a6f45cbed094ad9b71be</td>\n",
              "      <td>Backdoor.Win32.Agent.IJ</td>\n",
              "      <td>Backdoor</td>\n",
              "      <td>PE32 executable (GUI) Intel 8038</td>\n",
              "    </tr>\n",
              "    <tr>\n",
              "      <th>3</th>\n",
              "      <td>1000</td>\n",
              "      <td>6.4</td>\n",
              "      <td>VirusShare_1d566bd3acbb610be389e</td>\n",
              "      <td>Backdoor.Win32.Cetorp</td>\n",
              "      <td>Backdoor</td>\n",
              "      <td>PE32 executable (GUI) Intel 8038</td>\n",
              "    </tr>\n",
              "    <tr>\n",
              "      <th>4</th>\n",
              "      <td>1001</td>\n",
              "      <td>2.2</td>\n",
              "      <td>VirusShare_1d587c74fd7292e13e5bd</td>\n",
              "      <td>Trojan.Win32.Kykymber.gen</td>\n",
              "      <td>PWS</td>\n",
              "      <td>PE32 executable (DLL) (GUI) Inte</td>\n",
              "    </tr>\n",
              "  </tbody>\n",
              "</table>\n",
              "</div>"
            ],
            "text/plain": [
              "      0    1                                 2                            3  \\\n",
              "0     1  3.8  VirusShare_0a0a0d4f02692c87fc908   TrojanDownloader.Small.mru   \n",
              "1    10  6.4  VirusShare_0a0c792921092fe45d663  Trojan.Win32.Injector.obgnq   \n",
              "2   100  1.6  VirusShare_0a6f45cbed094ad9b71be      Backdoor.Win32.Agent.IJ   \n",
              "3  1000  6.4  VirusShare_1d566bd3acbb610be389e        Backdoor.Win32.Cetorp   \n",
              "4  1001  2.2  VirusShare_1d587c74fd7292e13e5bd    Trojan.Win32.Kykymber.gen   \n",
              "\n",
              "                  4                                 5  \n",
              "0  TrojanDownloader  PE32 executable (GUI) Intel 8038  \n",
              "1           VirTool  PE32 executable (GUI) Intel 8038  \n",
              "2          Backdoor  PE32 executable (GUI) Intel 8038  \n",
              "3          Backdoor  PE32 executable (GUI) Intel 8038  \n",
              "4               PWS  PE32 executable (DLL) (GUI) Inte  "
            ]
          },
          "metadata": {
            "tags": []
          },
          "execution_count": 36
        }
      ]
    },
    {
      "cell_type": "code",
      "metadata": {
        "id": "PUDkTV80utKD",
        "colab_type": "code",
        "colab": {}
      },
      "source": [
        "y=labels[4]"
      ],
      "execution_count": 0,
      "outputs": []
    },
    {
      "cell_type": "code",
      "metadata": {
        "id": "rsFiBeoHutKH",
        "colab_type": "code",
        "outputId": "ec8afbc8-51f3-429e-d468-20050c86229a",
        "colab": {}
      },
      "source": [
        "y.value_counts()"
      ],
      "execution_count": 0,
      "outputs": [
        {
          "output_type": "execute_result",
          "data": {
            "text/plain": [
              "none                1241\n",
              "Trojan               874\n",
              "Virus                241\n",
              "Backdoor             222\n",
              "TrojanDownloader     219\n",
              "PWS                  148\n",
              "VirTool              147\n",
              "Worm                 114\n",
              "Exploit               89\n",
              "TrojanSpy             57\n",
              "TrojanClicker         52\n",
              "TrojanDropper         51\n",
              "BrowserModifier       35\n",
              "SoftwareBundler       29\n",
              "Rogue                 29\n",
              "Adware                25\n",
              "Ransom                14\n",
              "TrojanProxy           12\n",
              "HackTool              10\n",
              "Flooder                8\n",
              "DoS                    6\n",
              "Spammer                4\n",
              "MonitoringTool         4\n",
              "Dialer                 3\n",
              "DDoS                   2\n",
              "Joke                   2\n",
              "Constructor            1\n",
              "Name: 4, dtype: int64"
            ]
          },
          "metadata": {
            "tags": []
          },
          "execution_count": 38
        }
      ]
    },
    {
      "cell_type": "code",
      "metadata": {
        "id": "-QHTuh1sutKM",
        "colab_type": "code",
        "outputId": "eea4775e-9153-4bb5-d01e-5fbd99b5e2a5",
        "colab": {}
      },
      "source": [
        "y.nunique()"
      ],
      "execution_count": 0,
      "outputs": [
        {
          "output_type": "execute_result",
          "data": {
            "text/plain": [
              "27"
            ]
          },
          "metadata": {
            "tags": []
          },
          "execution_count": 40
        }
      ]
    },
    {
      "cell_type": "code",
      "metadata": {
        "id": "tMYvbaujutKO",
        "colab_type": "code",
        "colab": {}
      },
      "source": [
        "from sklearn.manifold import TSNE\n",
        "model = TSNE(learning_rate=200)\n",
        "tsne_features = model.fit_transform(data1)\n",
        "xs = tsne_features[:,0]\n",
        "ys = tsne_features[:,1]\n",
        "plt.scatter(xs,ys)\n",
        "plt.show()"
      ],
      "execution_count": 0,
      "outputs": []
    },
    {
      "cell_type": "code",
      "metadata": {
        "id": "m7FDAeTfutKS",
        "colab_type": "code",
        "colab": {}
      },
      "source": [
        "lab=y.tolist()"
      ],
      "execution_count": 0,
      "outputs": []
    },
    {
      "cell_type": "code",
      "metadata": {
        "id": "zIgfwNUiutKV",
        "colab_type": "code",
        "colab": {}
      },
      "source": [
        "unlabels=set(lab)"
      ],
      "execution_count": 0,
      "outputs": []
    },
    {
      "cell_type": "code",
      "metadata": {
        "id": "WeKQbFtyutKW",
        "colab_type": "code",
        "outputId": "a1d7e71c-c066-4051-b34b-e23fa960e61e",
        "colab": {}
      },
      "source": [
        "unlabels"
      ],
      "execution_count": 0,
      "outputs": [
        {
          "output_type": "execute_result",
          "data": {
            "text/plain": [
              "{'Adware',\n",
              " 'Backdoor',\n",
              " 'BrowserModifier',\n",
              " 'Constructor',\n",
              " 'DDoS',\n",
              " 'Dialer',\n",
              " 'DoS',\n",
              " 'Exploit',\n",
              " 'Flooder',\n",
              " 'HackTool',\n",
              " 'Joke',\n",
              " 'MonitoringTool',\n",
              " 'PWS',\n",
              " 'Ransom',\n",
              " 'Rogue',\n",
              " 'SoftwareBundler',\n",
              " 'Spammer',\n",
              " 'Trojan',\n",
              " 'TrojanClicker',\n",
              " 'TrojanDownloader',\n",
              " 'TrojanDropper',\n",
              " 'TrojanProxy',\n",
              " 'TrojanSpy',\n",
              " 'VirTool',\n",
              " 'Virus',\n",
              " 'Worm',\n",
              " 'none'}"
            ]
          },
          "metadata": {
            "tags": []
          },
          "execution_count": 38
        }
      ]
    },
    {
      "cell_type": "code",
      "metadata": {
        "id": "0433ib-6utKc",
        "colab_type": "code",
        "colab": {}
      },
      "source": [
        "from minisom_new import MiniSom \n",
        "som= MiniSom(x=7,y=7,input_len=40,sigma=1.0)"
      ],
      "execution_count": 0,
      "outputs": []
    },
    {
      "cell_type": "code",
      "metadata": {
        "id": "KK6PpCcFutKe",
        "colab_type": "code",
        "colab": {}
      },
      "source": [
        "som.random_weights_init(data=data1)\n",
        "som.train_random(data=data1,num_iteration=100)"
      ],
      "execution_count": 0,
      "outputs": []
    },
    {
      "cell_type": "code",
      "metadata": {
        "scrolled": true,
        "id": "9sKVV9ORutKh",
        "colab_type": "code",
        "outputId": "440e1f55-4a75-4c0d-ed3f-b6804f41d4c4",
        "colab": {}
      },
      "source": [
        "from pylab import bone,pcolor,colorbar,plot,show\n",
        "bone()\n",
        "pcolor(som.distance_map().T)\n",
        "colorbar()\n",
        "plt.show()"
      ],
      "execution_count": 0,
      "outputs": [
        {
          "output_type": "display_data",
          "data": {
            "image/png": "[encoded data removed]",
            "text/plain": [
              "<matplotlib.figure.Figure at 0x7f07c9434b38>"
            ]
          },
          "metadata": {
            "tags": []
          }
        }
      ]
    },
    {
      "cell_type": "code",
      "metadata": {
        "id": "CVo_BqukutKj",
        "colab_type": "code",
        "colab": {}
      },
      "source": [
        "scores=pd.read_csv('scores.csv',header=None)"
      ],
      "execution_count": 0,
      "outputs": []
    },
    {
      "cell_type": "code",
      "metadata": {
        "id": "ceFgT-UyutKm",
        "colab_type": "code",
        "outputId": "0a21d9f0-a088-42bd-b195-69d768d569eb",
        "colab": {}
      },
      "source": [
        "scores.head()"
      ],
      "execution_count": 0,
      "outputs": [
        {
          "output_type": "execute_result",
          "data": {
            "text/html": [
              "<div>\n",
              "<style>\n",
              "    .dataframe thead tr:only-child th {\n",
              "        text-align: right;\n",
              "    }\n",
              "\n",
              "    .dataframe thead th {\n",
              "        text-align: left;\n",
              "    }\n",
              "\n",
              "    .dataframe tbody tr th {\n",
              "        vertical-align: top;\n",
              "    }\n",
              "</style>\n",
              "<table border=\"1\" class=\"dataframe\">\n",
              "  <thead>\n",
              "    <tr style=\"text-align: right;\">\n",
              "      <th></th>\n",
              "      <th>0</th>\n",
              "      <th>1</th>\n",
              "      <th>2</th>\n",
              "      <th>3</th>\n",
              "      <th>4</th>\n",
              "    </tr>\n",
              "  </thead>\n",
              "  <tbody>\n",
              "    <tr>\n",
              "      <th>0</th>\n",
              "      <td>1</td>\n",
              "      <td>3.8</td>\n",
              "      <td>VirusShare_0a0a0d4f02692c87fc908</td>\n",
              "      <td>TrojanDownloader.Small.mru</td>\n",
              "      <td>TrojanDownloader</td>\n",
              "    </tr>\n",
              "    <tr>\n",
              "      <th>1</th>\n",
              "      <td>10</td>\n",
              "      <td>6.4</td>\n",
              "      <td>VirusShare_0a0c792921092fe45d663</td>\n",
              "      <td>Trojan.Win32.Injector.obgnq</td>\n",
              "      <td>VirTool</td>\n",
              "    </tr>\n",
              "    <tr>\n",
              "      <th>2</th>\n",
              "      <td>100</td>\n",
              "      <td>1.6</td>\n",
              "      <td>VirusShare_0a6f45cbed094ad9b71be</td>\n",
              "      <td>Backdoor.Win32.Agent.IJ</td>\n",
              "      <td>Backdoor</td>\n",
              "    </tr>\n",
              "    <tr>\n",
              "      <th>3</th>\n",
              "      <td>1000</td>\n",
              "      <td>6.4</td>\n",
              "      <td>VirusShare_1d566bd3acbb610be389e</td>\n",
              "      <td>Backdoor.Win32.Cetorp</td>\n",
              "      <td>Backdoor</td>\n",
              "    </tr>\n",
              "    <tr>\n",
              "      <th>4</th>\n",
              "      <td>1001</td>\n",
              "      <td>2.2</td>\n",
              "      <td>VirusShare_1d587c74fd7292e13e5bd</td>\n",
              "      <td>Trojan.Win32.Kykymber.gen</td>\n",
              "      <td>PWS</td>\n",
              "    </tr>\n",
              "  </tbody>\n",
              "</table>\n",
              "</div>"
            ],
            "text/plain": [
              "      0    1                                 2                            3  \\\n",
              "0     1  3.8  VirusShare_0a0a0d4f02692c87fc908   TrojanDownloader.Small.mru   \n",
              "1    10  6.4  VirusShare_0a0c792921092fe45d663  Trojan.Win32.Injector.obgnq   \n",
              "2   100  1.6  VirusShare_0a6f45cbed094ad9b71be      Backdoor.Win32.Agent.IJ   \n",
              "3  1000  6.4  VirusShare_1d566bd3acbb610be389e        Backdoor.Win32.Cetorp   \n",
              "4  1001  2.2  VirusShare_1d587c74fd7292e13e5bd    Trojan.Win32.Kykymber.gen   \n",
              "\n",
              "                  4  \n",
              "0  TrojanDownloader  \n",
              "1           VirTool  \n",
              "2          Backdoor  \n",
              "3          Backdoor  \n",
              "4               PWS  "
            ]
          },
          "metadata": {
            "tags": []
          },
          "execution_count": 40
        }
      ]
    },
    {
      "cell_type": "code",
      "metadata": {
        "id": "yOO26mbPutKo",
        "colab_type": "code",
        "outputId": "9218059e-62ec-4db3-ef23-1f93c7c2e7e0",
        "colab": {}
      },
      "source": [
        "labels=scores[4].unique()\n",
        "labels"
      ],
      "execution_count": 0,
      "outputs": [
        {
          "output_type": "execute_result",
          "data": {
            "text/plain": [
              "array(['TrojanDownloader', 'VirTool', 'Backdoor', 'PWS', 'Trojan', 'Worm',\n",
              "       'none', 'Exploit', 'SoftwareBundler', 'TrojanClicker',\n",
              "       'BrowserModifier', 'Virus', 'Ransom', 'Flooder', 'TrojanSpy',\n",
              "       'Rogue', 'DoS', 'TrojanProxy', 'TrojanDropper', 'Spammer',\n",
              "       'MonitoringTool', 'Adware', 'HackTool', 'DDoS', 'Dialer',\n",
              "       'Constructor', 'Joke'], dtype=object)"
            ]
          },
          "metadata": {
            "tags": []
          },
          "execution_count": 41
        }
      ]
    },
    {
      "cell_type": "code",
      "metadata": {
        "id": "KJwCPoy-utKq",
        "colab_type": "code",
        "outputId": "cfc07818-3df3-4313-a3f2-a88afa967692",
        "colab": {}
      },
      "source": [
        "mapping={}\n",
        "for i,lab in enumerate(labels):\n",
        "    mapping[lab]=i\n",
        "    \n",
        "mapping"
      ],
      "execution_count": 0,
      "outputs": [
        {
          "output_type": "execute_result",
          "data": {
            "text/plain": [
              "{'Adware': 21,\n",
              " 'Backdoor': 2,\n",
              " 'BrowserModifier': 10,\n",
              " 'Constructor': 25,\n",
              " 'DDoS': 23,\n",
              " 'Dialer': 24,\n",
              " 'DoS': 16,\n",
              " 'Exploit': 7,\n",
              " 'Flooder': 13,\n",
              " 'HackTool': 22,\n",
              " 'Joke': 26,\n",
              " 'MonitoringTool': 20,\n",
              " 'PWS': 3,\n",
              " 'Ransom': 12,\n",
              " 'Rogue': 15,\n",
              " 'SoftwareBundler': 8,\n",
              " 'Spammer': 19,\n",
              " 'Trojan': 4,\n",
              " 'TrojanClicker': 9,\n",
              " 'TrojanDownloader': 0,\n",
              " 'TrojanDropper': 18,\n",
              " 'TrojanProxy': 17,\n",
              " 'TrojanSpy': 14,\n",
              " 'VirTool': 1,\n",
              " 'Virus': 11,\n",
              " 'Worm': 5,\n",
              " 'none': 6}"
            ]
          },
          "metadata": {
            "tags": []
          },
          "execution_count": 42
        }
      ]
    },
    {
      "cell_type": "code",
      "metadata": {
        "id": "1f492hH7utKs",
        "colab_type": "code",
        "colab": {}
      },
      "source": [
        "scores.replace({4: mapping},inplace=True)\n"
      ],
      "execution_count": 0,
      "outputs": []
    },
    {
      "cell_type": "code",
      "metadata": {
        "id": "NYgr5OFSutKu",
        "colab_type": "code",
        "outputId": "148f6aed-1358-4dd1-91df-60481382bf42",
        "colab": {}
      },
      "source": [
        "y=scores[4]\n",
        "y"
      ],
      "execution_count": 0,
      "outputs": [
        {
          "output_type": "execute_result",
          "data": {
            "text/plain": [
              "0        0\n",
              "1        1\n",
              "2        2\n",
              "3        2\n",
              "4        3\n",
              "5        4\n",
              "6        3\n",
              "7        0\n",
              "8        1\n",
              "9        5\n",
              "10       4\n",
              "11       2\n",
              "12       6\n",
              "13       2\n",
              "14       3\n",
              "15       6\n",
              "16       4\n",
              "17       4\n",
              "18       6\n",
              "19       6\n",
              "20       6\n",
              "21       7\n",
              "22       6\n",
              "23       4\n",
              "24       6\n",
              "25       4\n",
              "26       6\n",
              "27       6\n",
              "28       8\n",
              "29       9\n",
              "        ..\n",
              "3824     0\n",
              "3825     4\n",
              "3826     1\n",
              "3827     2\n",
              "3828     5\n",
              "3829     4\n",
              "3830     2\n",
              "3831     0\n",
              "3832     6\n",
              "3833     4\n",
              "3834    15\n",
              "3835    14\n",
              "3836     4\n",
              "3837     9\n",
              "3838     3\n",
              "3839     4\n",
              "3840     2\n",
              "3841     5\n",
              "3842     4\n",
              "3843     4\n",
              "3844     0\n",
              "3845     3\n",
              "3846     3\n",
              "3847     4\n",
              "3848     6\n",
              "3849     6\n",
              "3850     3\n",
              "3851     4\n",
              "3852     6\n",
              "3853     0\n",
              "Name: 4, Length: 3854, dtype: int64"
            ]
          },
          "metadata": {
            "tags": []
          },
          "execution_count": 44
        }
      ]
    },
    {
      "cell_type": "code",
      "metadata": {
        "id": "ZyYOxZTTutKx",
        "colab_type": "code",
        "outputId": "d6255314-a1fc-436b-9b93-aae89a6db68a",
        "colab": {}
      },
      "source": [
        "from sklearn.manifold import TSNE\n",
        "import seaborn as sns\n",
        "sns.set()\n",
        "model = TSNE(learning_rate=200)\n",
        "tsne_features = model.fit_transform(data1)\n",
        "\n",
        "\n",
        "def scatter(x, colors):\n",
        "    # We choose a color palette with seaborn.\n",
        "    palette = np.array(sns.color_palette(\"hls\", 27))\n",
        "\n",
        "    # We create a scatter plot.\n",
        "    f = plt.figure(figsize=(8, 8))\n",
        "    ax = plt.subplot(aspect='equal')\n",
        "    sc = ax.scatter(x[:,0], x[:,1], lw=0, s=40,\n",
        "                    c=palette[colors.astype(np.int)])\n",
        "    plt.xlim(-25, 25)\n",
        "    plt.ylim(-25, 25)\n",
        "    ax.axis('off')\n",
        "    ax.axis('tight')\n",
        "\n",
        "    # We add the labels for each digit.\n",
        "    txts = []\n",
        "    for i in range(27):\n",
        "        # Position of each label.\n",
        "        xtext, ytext = np.median(x[colors == i, :], axis=0)\n",
        "        txt = ax.text(xtext, ytext, str(i), fontsize=24)\n",
        "        txt.set_path_effects([\n",
        "            PathEffects.Stroke(linewidth=5, foreground=\"w\"),\n",
        "            PathEffects.Normal()])\n",
        "        txts.append(txt)\n",
        "\n",
        "    return f, ax, sc, txts\n",
        "\n",
        "scatter(tsne_features,y)"
      ],
      "execution_count": 0,
      "outputs": [
        {
          "output_type": "error",
          "ename": "NameError",
          "evalue": "global name 'PathEffects' is not defined",
          "traceback": [
            "\u001b[0;31m---------------------------------------------------------------------------\u001b[0m",
            "\u001b[0;31mNameError\u001b[0m                                 Traceback (most recent call last)",
            "\u001b[0;32m<ipython-input-56-202300c3eee7>\u001b[0m in \u001b[0;36m<module>\u001b[0;34m()\u001b[0m\n\u001b[1;32m     33\u001b[0m     \u001b[0;32mreturn\u001b[0m \u001b[0mf\u001b[0m\u001b[0;34m,\u001b[0m \u001b[0max\u001b[0m\u001b[0;34m,\u001b[0m \u001b[0msc\u001b[0m\u001b[0;34m,\u001b[0m \u001b[0mtxts\u001b[0m\u001b[0;34m\u001b[0m\u001b[0m\n\u001b[1;32m     34\u001b[0m \u001b[0;34m\u001b[0m\u001b[0m\n\u001b[0;32m---> 35\u001b[0;31m \u001b[0mscatter\u001b[0m\u001b[0;34m(\u001b[0m\u001b[0mtsne_features\u001b[0m\u001b[0;34m,\u001b[0m\u001b[0my\u001b[0m\u001b[0;34m)\u001b[0m\u001b[0;34m\u001b[0m\u001b[0m\n\u001b[0m",
            "\u001b[0;32m<ipython-input-56-202300c3eee7>\u001b[0m in \u001b[0;36mscatter\u001b[0;34m(x, colors)\u001b[0m\n\u001b[1;32m     27\u001b[0m         \u001b[0mtxt\u001b[0m \u001b[0;34m=\u001b[0m \u001b[0max\u001b[0m\u001b[0;34m.\u001b[0m\u001b[0mtext\u001b[0m\u001b[0;34m(\u001b[0m\u001b[0mxtext\u001b[0m\u001b[0;34m,\u001b[0m \u001b[0mytext\u001b[0m\u001b[0;34m,\u001b[0m \u001b[0mstr\u001b[0m\u001b[0;34m(\u001b[0m\u001b[0mi\u001b[0m\u001b[0;34m)\u001b[0m\u001b[0;34m,\u001b[0m \u001b[0mfontsize\u001b[0m\u001b[0;34m=\u001b[0m\u001b[0;36m24\u001b[0m\u001b[0;34m)\u001b[0m\u001b[0;34m\u001b[0m\u001b[0m\n\u001b[1;32m     28\u001b[0m         txt.set_path_effects([\n\u001b[0;32m---> 29\u001b[0;31m             \u001b[0mPathEffects\u001b[0m\u001b[0;34m.\u001b[0m\u001b[0mStroke\u001b[0m\u001b[0;34m(\u001b[0m\u001b[0mlinewidth\u001b[0m\u001b[0;34m=\u001b[0m\u001b[0;36m5\u001b[0m\u001b[0;34m,\u001b[0m \u001b[0mforeground\u001b[0m\u001b[0;34m=\u001b[0m\u001b[0;34m\"w\"\u001b[0m\u001b[0;34m)\u001b[0m\u001b[0;34m,\u001b[0m\u001b[0;34m\u001b[0m\u001b[0m\n\u001b[0m\u001b[1;32m     30\u001b[0m             PathEffects.Normal()])\n\u001b[1;32m     31\u001b[0m         \u001b[0mtxts\u001b[0m\u001b[0;34m.\u001b[0m\u001b[0mappend\u001b[0m\u001b[0;34m(\u001b[0m\u001b[0mtxt\u001b[0m\u001b[0;34m)\u001b[0m\u001b[0;34m\u001b[0m\u001b[0m\n",
            "\u001b[0;31mNameError\u001b[0m: global name 'PathEffects' is not defined"
          ]
        }
      ]
    },
    {
      "cell_type": "code",
      "metadata": {
        "collapsed": true,
        "id": "M7QfGzptutKz",
        "colab_type": "code",
        "outputId": "7fcc1cf9-af08-449c-f84b-190cbd54968d",
        "colab": {}
      },
      "source": [
        "\n",
        "plt.figure(figsize=(20, 20))\n",
        "wmap = {}\n",
        "im = 0\n",
        "for x, t in zip(data1, y):  # scatterplot\n",
        "    w = som.winner(x)\n",
        "    wmap[w] = im\n",
        "    plt. text(w[0]+.5,  w[1]+.5,  str(t),\n",
        "              color=plt.cm.Dark2(t / 4), fontdict={'weight': 'bold',  'size': 11})\n",
        "    im = im + 1\n",
        "plt.axis([0, som.get_weights().shape[0], 0,  som.get_weights().shape[1]])\n",
        "plt.show()"
      ],
      "execution_count": 0,
      "outputs": [
        {
          "output_type": "display_data",
          "data": {
            "image/png": "[encoded data removed]",
            "text/plain": [
              "<matplotlib.figure.Figure at 0x7f07d7689a20>"
            ]
          },
          "metadata": {
            "tags": []
          }
        }
      ]
    },
    {
      "cell_type": "code",
      "metadata": {
        "id": "EHKwYGVIutK3",
        "colab_type": "code",
        "colab": {}
      },
      "source": [
        ""
      ],
      "execution_count": 0,
      "outputs": []
    }
  ]
}